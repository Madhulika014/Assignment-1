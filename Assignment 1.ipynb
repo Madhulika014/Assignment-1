{
 "cells": [
  {
   "cell_type": "code",
   "execution_count": 1,
   "id": "cb663597",
   "metadata": {},
   "outputs": [
    {
     "name": "stdout",
     "output_type": "stream",
     "text": [
      "Enter a word: python\n",
      "python\n",
      "ntyp\n",
      "--------------------------\n",
      "Enter 1st number: 1\n",
      "Enter 2st number: 2\n",
      "Addition:  3\n",
      "Subtraction:  -1\n",
      "Multiplication:  2\n",
      "Division:  0.5\n"
     ]
    }
   ],
   "source": [
    "#Definig a function to delete 'h' and 'o' and reverse a string.\n",
    "def reverse(string):\n",
    "    string = string.replace('h','')\n",
    "    string = string.replace('o','')\n",
    "    rev = string[::-1]\n",
    "    return rev\n",
    "\n",
    "#Taking input and assigning to a variable\n",
    "a = input(\"Enter a word: \")\n",
    "\n",
    "#calling print statement\n",
    "print(a)\n",
    "\n",
    "#calling reverse function and print statement\n",
    "print(reverse(a))\n",
    "\n",
    "print(\"--------------------------\")\n",
    "\n",
    "#taking input, casting into int and assigning to two different variables\n",
    "b = int(input(\"Enter 1st number: \"))\n",
    "c = int(input(\"Enter 2st number: \"))\n",
    "\n",
    "#Addition\n",
    "add = b+c\n",
    "#Subtraction\n",
    "sub = b-c\n",
    "#Multiplication\n",
    "mul = b*c\n",
    "#Division\n",
    "div = b/c\n",
    "\n",
    "#print statements\n",
    "print(\"Addition: \",add)\n",
    "print(\"Subtraction: \",sub)\n",
    "print(\"Multiplication: \",mul)\n",
    "print(\"Division: \",div)"
   ]
  },
  {
   "cell_type": "code",
   "execution_count": 2,
   "id": "d4149c92",
   "metadata": {},
   "outputs": [
    {
     "name": "stdout",
     "output_type": "stream",
     "text": [
      "i love playing with python\n",
      "i love playing with pythons\n"
     ]
    }
   ],
   "source": [
    "#Taking input and assigning to a variable\n",
    "string = input()\n",
    "\n",
    "#calling a replace function to replace python with pythons , inside a print function \n",
    "print(string.replace('python','pythons'))\n"
   ]
  },
  {
   "cell_type": "code",
   "execution_count": 3,
   "id": "0d183130",
   "metadata": {},
   "outputs": [
    {
     "name": "stdout",
     "output_type": "stream",
     "text": [
      "Enter score: 100\n",
      "A\n"
     ]
    }
   ],
   "source": [
    "#Taking input and assigning to a variable\n",
    "grade = int(input(\"Enter score: \"))\n",
    "\n",
    "#else if case to determine grade using percentage\n",
    "#if grade greater than 89 and less that 101 then print grade A will execute\n",
    "if(grade>89 and grade<101):\n",
    "    print(\"A\")\n",
    "#if grade greater than 79 and less that 90 then print grade B will execute\n",
    "elif(grade>79 and grade<90):\n",
    "    print(\"B\")\n",
    "#if grade greater than 69 and less that 80 then print grade B will execute\n",
    "elif(grade>69 and grade<80):\n",
    "    print(\"C\")\n",
    "#if grade greater than 59 and less that 70 then print grade B will execute\n",
    "elif(grade>59 and grade<70):\n",
    "    print(\"D\")\n",
    "#else command if above conditions not met.\n",
    "else:\n",
    "    print(\"F\")"
   ]
  },
  {
   "cell_type": "code",
   "execution_count": 4,
   "id": "b244e7f2",
   "metadata": {},
   "outputs": [
    {
     "name": "stdout",
     "output_type": "stream",
     "text": [
      "Enter score: 102\n",
      "F\n"
     ]
    }
   ],
   "source": [
    "#Taking input and assigning to a variable\n",
    "grade = int(input(\"Enter score: \"))\n",
    "\n",
    "#else if case to determine grade using percentage\n",
    "#if grade greater than 89 and less that 101 then print grade A will execute\n",
    "if(grade>89 and grade<101):\n",
    "    print(\"A\")\n",
    "#if grade greater than 79 and less that 90 then print grade B will execute\n",
    "elif(grade>79 and grade<90):\n",
    "    print(\"B\")\n",
    "#if grade greater than 69 and less that 80 then print grade B will execute\n",
    "elif(grade>69 and grade<80):\n",
    "    print(\"C\")\n",
    "#if grade greater than 59 and less that 70 then print grade B will execute\n",
    "elif(grade>59 and grade<70):\n",
    "    print(\"D\")\n",
    "#else command if above conditions not met.\n",
    "else:\n",
    "    print(\"F\")"
   ]
  },
  {
   "cell_type": "code",
   "execution_count": null,
   "id": "3db2c64e",
   "metadata": {},
   "outputs": [],
   "source": []
  }
 ],
 "metadata": {
  "kernelspec": {
   "display_name": "Python 3 (ipykernel)",
   "language": "python",
   "name": "python3"
  },
  "language_info": {
   "codemirror_mode": {
    "name": "ipython",
    "version": 3
   },
   "file_extension": ".py",
   "mimetype": "text/x-python",
   "name": "python",
   "nbconvert_exporter": "python",
   "pygments_lexer": "ipython3",
   "version": "3.11.4"
  }
 },
 "nbformat": 4,
 "nbformat_minor": 5
}
